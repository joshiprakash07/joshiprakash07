{
 "cells": [
  {
   "cell_type": "markdown",
   "id": "36b029f0",
   "metadata": {},
   "source": [
    "## QEM Creator"
   ]
  },
  {
   "cell_type": "code",
   "execution_count": 1,
   "id": "ad8283d0",
   "metadata": {},
   "outputs": [
    {
     "name": "stdout",
     "output_type": "stream",
     "text": [
      "KC_April.xlsx\n",
      "Loreal_april.xlsx\n"
     ]
    }
   ],
   "source": [
    "#Note: - Project name and Cube name or deliverable name shoulb be as per output inventory\n",
    "# please provide folder path in 'main_path' variable. in folder please keep 'Output_Inventory' in folder.\n",
    "# Make sure do not make any spelling mistake while naming the file.\n",
    "import pandas as pd\n",
    "import os\n",
    "\n",
    "main_path = r\"C:\\Users\\jopr1001\\OneDrive - The Nielsen Company\\Desktop\\ABCD\"\n",
    "os.chdir(main_path)\n",
    "op1 = pd.read_excel(\"Output_Inventory.xlsx\")\n",
    "\n",
    "for file in os.listdir():\n",
    "    if not file.startswith('Output'):\n",
    "        file_read = pd.read_excel(file)\n",
    "        combine = pd.merge(file_read,op1, how = 'left', left_on = [\"Project Name\", \"Monocube Name\", \"Delivery Dest\"],\n",
    "                           right_on = [\"Project Name\", \"Deliverable Name\", \"Delivery Dest\"])\n",
    "        combine.insert(0, \"Action Required\", \"INSERT\")\n",
    "        combine.insert(1, \"Delivery_type\", \"UPDATE\")\n",
    "        combine = combine[['Action Required', 'Delivery_type', 'Monocube Name',\n",
    "       'Schedule Date', 'Actual Date',  'Delivery ID',\n",
    "       'Deliverable Name', 'Status', 'General Description',\n",
    "       'Business Unit Key', 'Parent Client', 'Local Client', 'Delivery Dest', 'Project Name',\n",
    "       'Delivery Location', 'Asset Type', 'Delivery Format', 'Delivery Method',\n",
    "       'Platform Key', 'Product Key', 'Category', 'Delivery Freq',\n",
    "       'IDC Service']]  \n",
    "        #combine.drop(\"\", axis=1, inplace = True)\n",
    "        combine.fillna({\"Delivery ID\" : \"Project name or Deliverable name is incorrect\"}, inplace =True)\n",
    "        combine.to_excel(\"qem_\"+ file,index=False)\n",
    "        print(file)"
   ]
  },
  {
   "cell_type": "code",
   "execution_count": 2,
   "id": "7488b6ec",
   "metadata": {},
   "outputs": [
    {
     "ename": "AttributeError",
     "evalue": "'DataFrame' object has no attribute 'column'",
     "output_type": "error",
     "traceback": [
      "\u001b[1;31m---------------------------------------------------------------------------\u001b[0m",
      "\u001b[1;31mAttributeError\u001b[0m                            Traceback (most recent call last)",
      "\u001b[1;32m~\\AppData\\Local\\Temp\\1/ipykernel_4648/662735833.py\u001b[0m in \u001b[0;36m<module>\u001b[1;34m\u001b[0m\n\u001b[1;32m----> 1\u001b[1;33m \u001b[0mcombine\u001b[0m\u001b[1;33m.\u001b[0m\u001b[0mcolumn\u001b[0m\u001b[1;33m\u001b[0m\u001b[1;33m\u001b[0m\u001b[0m\n\u001b[0m",
      "\u001b[1;32m~\\Anaconda3\\lib\\site-packages\\pandas\\core\\generic.py\u001b[0m in \u001b[0;36m__getattr__\u001b[1;34m(self, name)\u001b[0m\n\u001b[0;32m   5581\u001b[0m         ):\n\u001b[0;32m   5582\u001b[0m             \u001b[1;32mreturn\u001b[0m \u001b[0mself\u001b[0m\u001b[1;33m[\u001b[0m\u001b[0mname\u001b[0m\u001b[1;33m]\u001b[0m\u001b[1;33m\u001b[0m\u001b[1;33m\u001b[0m\u001b[0m\n\u001b[1;32m-> 5583\u001b[1;33m         \u001b[1;32mreturn\u001b[0m \u001b[0mobject\u001b[0m\u001b[1;33m.\u001b[0m\u001b[0m__getattribute__\u001b[0m\u001b[1;33m(\u001b[0m\u001b[0mself\u001b[0m\u001b[1;33m,\u001b[0m \u001b[0mname\u001b[0m\u001b[1;33m)\u001b[0m\u001b[1;33m\u001b[0m\u001b[1;33m\u001b[0m\u001b[0m\n\u001b[0m\u001b[0;32m   5584\u001b[0m \u001b[1;33m\u001b[0m\u001b[0m\n\u001b[0;32m   5585\u001b[0m     \u001b[1;32mdef\u001b[0m \u001b[0m__setattr__\u001b[0m\u001b[1;33m(\u001b[0m\u001b[0mself\u001b[0m\u001b[1;33m,\u001b[0m \u001b[0mname\u001b[0m\u001b[1;33m:\u001b[0m \u001b[0mstr\u001b[0m\u001b[1;33m,\u001b[0m \u001b[0mvalue\u001b[0m\u001b[1;33m)\u001b[0m \u001b[1;33m->\u001b[0m \u001b[1;32mNone\u001b[0m\u001b[1;33m:\u001b[0m\u001b[1;33m\u001b[0m\u001b[1;33m\u001b[0m\u001b[0m\n",
      "\u001b[1;31mAttributeError\u001b[0m: 'DataFrame' object has no attribute 'column'"
     ]
    }
   ],
   "source": [
    "combine.column"
   ]
  },
  {
   "cell_type": "code",
   "execution_count": null,
   "id": "c74377bf",
   "metadata": {},
   "outputs": [],
   "source": []
  }
 ],
 "metadata": {
  "kernelspec": {
   "display_name": "Python 3 (ipykernel)",
   "language": "python",
   "name": "python3"
  },
  "language_info": {
   "codemirror_mode": {
    "name": "ipython",
    "version": 3
   },
   "file_extension": ".py",
   "mimetype": "text/x-python",
   "name": "python",
   "nbconvert_exporter": "python",
   "pygments_lexer": "ipython3",
   "version": "3.9.7"
  }
 },
 "nbformat": 4,
 "nbformat_minor": 5
}
