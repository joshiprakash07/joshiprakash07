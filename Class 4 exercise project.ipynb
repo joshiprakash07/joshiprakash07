{
 "cells": [
  {
   "cell_type": "code",
   "execution_count": 3,
   "id": "731b9035",
   "metadata": {},
   "outputs": [
    {
     "name": "stderr",
     "output_type": "stream",
     "text": [
      "C:\\Users\\jopr1001\\Anaconda3\\lib\\site-packages\\fuzzywuzzy\\fuzz.py:11: UserWarning:\n",
      "\n",
      "Using slow pure-python SequenceMatcher. Install python-Levenshtein to remove this warning\n",
      "\n"
     ]
    }
   ],
   "source": [
    "import pandas as pd\n",
    "import numpy as np\n",
    "import cufflinks as cf\n",
    "from fuzzywuzzy import fuzz\n",
    "from fuzzywuzzy import process"
   ]
  },
  {
   "cell_type": "code",
   "execution_count": 4,
   "id": "5bac1221",
   "metadata": {},
   "outputs": [],
   "source": [
    "response_data = pd.read_excel(r'C:\\Users\\jopr1001\\Downloads\\Class_4_exercise_response.xlsx')"
   ]
  },
  {
   "cell_type": "code",
   "execution_count": 5,
   "id": "ae5cf608",
   "metadata": {},
   "outputs": [
    {
     "data": {
      "text/html": [
       "<div>\n",
       "<style scoped>\n",
       "    .dataframe tbody tr th:only-of-type {\n",
       "        vertical-align: middle;\n",
       "    }\n",
       "\n",
       "    .dataframe tbody tr th {\n",
       "        vertical-align: top;\n",
       "    }\n",
       "\n",
       "    .dataframe thead th {\n",
       "        text-align: right;\n",
       "    }\n",
       "</style>\n",
       "<table border=\"1\" class=\"dataframe\">\n",
       "  <thead>\n",
       "    <tr style=\"text-align: right;\">\n",
       "      <th></th>\n",
       "      <th>Name</th>\n",
       "      <th>Email</th>\n",
       "      <th>Name_new</th>\n",
       "    </tr>\n",
       "  </thead>\n",
       "  <tbody>\n",
       "    <tr>\n",
       "      <th>0</th>\n",
       "      <td>Amarnath Yadav</td>\n",
       "      <td>yadavamar8111995@gmail.com</td>\n",
       "      <td>Amarnath Yadav</td>\n",
       "    </tr>\n",
       "    <tr>\n",
       "      <th>1</th>\n",
       "      <td>Anuj Kapdi</td>\n",
       "      <td>anujkapdi07@gmail.com</td>\n",
       "      <td>Anuj Kapdi</td>\n",
       "    </tr>\n",
       "    <tr>\n",
       "      <th>2</th>\n",
       "      <td>Anushree Prabhu</td>\n",
       "      <td>anushree.prabhu@gmail.com</td>\n",
       "      <td>Anushree Prabhu</td>\n",
       "    </tr>\n",
       "    <tr>\n",
       "      <th>3</th>\n",
       "      <td>Arpan Bera</td>\n",
       "      <td>arpanberaofficial@gmail.com</td>\n",
       "      <td>Arpan Bera</td>\n",
       "    </tr>\n",
       "    <tr>\n",
       "      <th>4</th>\n",
       "      <td>Bharat Patel</td>\n",
       "      <td>bharat4890@gmail.com</td>\n",
       "      <td>Bharat Patel</td>\n",
       "    </tr>\n",
       "  </tbody>\n",
       "</table>\n",
       "</div>"
      ],
      "text/plain": [
       "              Name                        Email         Name_new\n",
       "0   Amarnath Yadav   yadavamar8111995@gmail.com   Amarnath Yadav\n",
       "1       Anuj Kapdi        anujkapdi07@gmail.com       Anuj Kapdi\n",
       "2  Anushree Prabhu    anushree.prabhu@gmail.com  Anushree Prabhu\n",
       "3       Arpan Bera  arpanberaofficial@gmail.com       Arpan Bera\n",
       "4     Bharat Patel         bharat4890@gmail.com     Bharat Patel"
      ]
     },
     "execution_count": 5,
     "metadata": {},
     "output_type": "execute_result"
    }
   ],
   "source": [
    "master = pd.read_excel(r'C:\\Users\\jopr1001\\Downloads\\Batch 4 Student Details.xlsx', sheet_name = 1)\n",
    "master['Name_new']=  master.Name.str.replace(', ',' ').str.title().str.strip()\n",
    "master.head()"
   ]
  },
  {
   "cell_type": "code",
   "execution_count": 6,
   "id": "c695b430",
   "metadata": {},
   "outputs": [
    {
     "data": {
      "text/html": [
       "<div>\n",
       "<style scoped>\n",
       "    .dataframe tbody tr th:only-of-type {\n",
       "        vertical-align: middle;\n",
       "    }\n",
       "\n",
       "    .dataframe tbody tr th {\n",
       "        vertical-align: top;\n",
       "    }\n",
       "\n",
       "    .dataframe thead th {\n",
       "        text-align: right;\n",
       "    }\n",
       "</style>\n",
       "<table border=\"1\" class=\"dataframe\">\n",
       "  <thead>\n",
       "    <tr style=\"text-align: right;\">\n",
       "      <th></th>\n",
       "      <th>Timestamp</th>\n",
       "      <th>Your Name</th>\n",
       "      <th>Name of exercise you completed</th>\n",
       "      <th>Status of exercises</th>\n",
       "      <th>Your queries/doubts or comment on exercises</th>\n",
       "    </tr>\n",
       "  </thead>\n",
       "  <tbody>\n",
       "    <tr>\n",
       "      <th>0</th>\n",
       "      <td>2022-07-31 13:35:26.588</td>\n",
       "      <td>varun kumar</td>\n",
       "      <td>String Exercise 1</td>\n",
       "      <td>Attempted &amp; solved successfully</td>\n",
       "      <td>please increase the no of questions.</td>\n",
       "    </tr>\n",
       "    <tr>\n",
       "      <th>1</th>\n",
       "      <td>2022-07-31 13:38:46.520</td>\n",
       "      <td>Hetulkumar</td>\n",
       "      <td>String Exercise 1</td>\n",
       "      <td>Attempted &amp; solved successfully</td>\n",
       "      <td>i have to do little brainstorm but Had fun whi...</td>\n",
       "    </tr>\n",
       "    <tr>\n",
       "      <th>2</th>\n",
       "      <td>2022-07-31 14:58:03.343</td>\n",
       "      <td>Hemaxi Makwana</td>\n",
       "      <td>String Exercise 1</td>\n",
       "      <td>Attempted &amp; solved successfully</td>\n",
       "      <td>Good Exercise</td>\n",
       "    </tr>\n",
       "    <tr>\n",
       "      <th>3</th>\n",
       "      <td>2022-08-01 04:07:05.156</td>\n",
       "      <td>Arpan Bera</td>\n",
       "      <td>String Exercise 1</td>\n",
       "      <td>Attempted &amp; solved successfully</td>\n",
       "      <td>Easy to solve these questions after attending ...</td>\n",
       "    </tr>\n",
       "    <tr>\n",
       "      <th>4</th>\n",
       "      <td>2022-08-01 12:04:11.425</td>\n",
       "      <td>Dhaval Sharma</td>\n",
       "      <td>String Exercise 1</td>\n",
       "      <td>Attempted &amp; solved successfully</td>\n",
       "      <td>It was good</td>\n",
       "    </tr>\n",
       "  </tbody>\n",
       "</table>\n",
       "</div>"
      ],
      "text/plain": [
       "                Timestamp       Your Name Name of exercise you completed  \\\n",
       "0 2022-07-31 13:35:26.588     varun kumar              String Exercise 1   \n",
       "1 2022-07-31 13:38:46.520      Hetulkumar              String Exercise 1   \n",
       "2 2022-07-31 14:58:03.343  Hemaxi Makwana              String Exercise 1   \n",
       "3 2022-08-01 04:07:05.156      Arpan Bera              String Exercise 1   \n",
       "4 2022-08-01 12:04:11.425   Dhaval Sharma              String Exercise 1   \n",
       "\n",
       "               Status of exercises  \\\n",
       "0  Attempted & solved successfully   \n",
       "1  Attempted & solved successfully   \n",
       "2  Attempted & solved successfully   \n",
       "3  Attempted & solved successfully   \n",
       "4  Attempted & solved successfully   \n",
       "\n",
       "         Your queries/doubts or comment on exercises  \n",
       "0               please increase the no of questions.  \n",
       "1  i have to do little brainstorm but Had fun whi...  \n",
       "2                                      Good Exercise  \n",
       "3  Easy to solve these questions after attending ...  \n",
       "4                                        It was good  "
      ]
     },
     "execution_count": 6,
     "metadata": {},
     "output_type": "execute_result"
    }
   ],
   "source": [
    "response_data.head()"
   ]
  },
  {
   "cell_type": "code",
   "execution_count": 7,
   "id": "8a0fd0e3",
   "metadata": {},
   "outputs": [],
   "source": [
    "response_data.columns = ['Time','Name','Execise','Status','Queries']"
   ]
  },
  {
   "cell_type": "code",
   "execution_count": 8,
   "id": "ad519a8a",
   "metadata": {},
   "outputs": [],
   "source": [
    "mat1 = []\n",
    "mat2 = []\n",
    "p = []"
   ]
  },
  {
   "cell_type": "code",
   "execution_count": 9,
   "id": "92c7c407",
   "metadata": {},
   "outputs": [],
   "source": [
    "list1 = master['Name_new'].tolist()\n",
    "list2 = response_data['Name'].tolist()"
   ]
  },
  {
   "cell_type": "code",
   "execution_count": null,
   "id": "26d4bdd9",
   "metadata": {},
   "outputs": [],
   "source": []
  }
 ],
 "metadata": {
  "kernelspec": {
   "display_name": "Python 3 (ipykernel)",
   "language": "python",
   "name": "python3"
  },
  "language_info": {
   "codemirror_mode": {
    "name": "ipython",
    "version": 3
   },
   "file_extension": ".py",
   "mimetype": "text/x-python",
   "name": "python",
   "nbconvert_exporter": "python",
   "pygments_lexer": "ipython3",
   "version": "3.9.7"
  }
 },
 "nbformat": 4,
 "nbformat_minor": 5
}
