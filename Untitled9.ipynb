{
 "cells": [
  {
   "cell_type": "code",
   "execution_count": 40,
   "id": "04e349ad-505a-4733-bcee-1a6291dde901",
   "metadata": {},
   "outputs": [],
   "source": [
    "key = ['name','age','sex','city', 'sl.no']\n",
    "value = ['prakash','31','male','junagadh', '1']\n",
    "\n",
    "dict1 = {}"
   ]
  },
  {
   "cell_type": "code",
   "execution_count": 37,
   "id": "1c014c32-7636-4107-a468-9c2c23384e73",
   "metadata": {},
   "outputs": [
    {
     "name": "stdout",
     "output_type": "stream",
     "text": [
      "{'name': 'prakash', 'age': '31', 'sex': 'male', 'city': 'junagadh'}\n"
     ]
    }
   ],
   "source": [
    "for i in key:\n",
    "    for j in value:\n",
    "        dict1[i] = j\n",
    "        value.remove(j)\n",
    "        break\n",
    "print(dict1)"
   ]
  },
  {
   "cell_type": "code",
   "execution_count": 42,
   "id": "ace03f43-7d9a-4ccc-bc49-ef07003c7d2b",
   "metadata": {},
   "outputs": [
    {
     "name": "stdout",
     "output_type": "stream",
     "text": [
      "{'name': 'prakash', 'age': '31', 'sex': 'male', 'city': 'junagadh'}\n"
     ]
    }
   ],
   "source": [
    "for i in range(0, len(key)):\n",
    "    dict1[key[i]] = value[i] \n",
    "print(dict1)\n",
    "      \n",
    "    "
   ]
  },
  {
   "cell_type": "code",
   "execution_count": 26,
   "id": "c48c5d25-8ba3-49e9-ad45-21f96a3f49b5",
   "metadata": {},
   "outputs": [],
   "source": [
    "dict1 = {'name': 'prakash', 'age': '31', 'sex': 'male', 'city': 'junagadh'}"
   ]
  },
  {
   "cell_type": "code",
   "execution_count": 40,
   "id": "b00c1b77-dcd0-4c7b-bf36-356b72cd46b4",
   "metadata": {},
   "outputs": [
    {
     "data": {
      "text/html": [
       "<div>\n",
       "<style scoped>\n",
       "    .dataframe tbody tr th:only-of-type {\n",
       "        vertical-align: middle;\n",
       "    }\n",
       "\n",
       "    .dataframe tbody tr th {\n",
       "        vertical-align: top;\n",
       "    }\n",
       "\n",
       "    .dataframe thead th {\n",
       "        text-align: right;\n",
       "    }\n",
       "</style>\n",
       "<table border=\"1\" class=\"dataframe\">\n",
       "  <thead>\n",
       "    <tr style=\"text-align: right;\">\n",
       "      <th></th>\n",
       "      <th>name</th>\n",
       "      <th>age</th>\n",
       "      <th>sex</th>\n",
       "      <th>city</th>\n",
       "    </tr>\n",
       "  </thead>\n",
       "  <tbody>\n",
       "    <tr>\n",
       "      <th>0</th>\n",
       "      <td>prakash</td>\n",
       "      <td>25</td>\n",
       "      <td>male</td>\n",
       "      <td>junagadh</td>\n",
       "    </tr>\n",
       "    <tr>\n",
       "      <th>1</th>\n",
       "      <td>swagat</td>\n",
       "      <td>28</td>\n",
       "      <td>male</td>\n",
       "      <td>odisa</td>\n",
       "    </tr>\n",
       "    <tr>\n",
       "      <th>2</th>\n",
       "      <td>apoo</td>\n",
       "      <td>26</td>\n",
       "      <td>male</td>\n",
       "      <td>vadodara</td>\n",
       "    </tr>\n",
       "    <tr>\n",
       "      <th>3</th>\n",
       "      <td>ujjwal</td>\n",
       "      <td>23</td>\n",
       "      <td>male</td>\n",
       "      <td>anand</td>\n",
       "    </tr>\n",
       "  </tbody>\n",
       "</table>\n",
       "</div>"
      ],
      "text/plain": [
       "      name  age   sex      city\n",
       "0  prakash   25  male  junagadh\n",
       "1   swagat   28  male     odisa\n",
       "2     apoo   26  male  vadodara\n",
       "3   ujjwal   23  male     anand"
      ]
     },
     "execution_count": 40,
     "metadata": {},
     "output_type": "execute_result"
    }
   ],
   "source": [
    "name_list = ['prakash', 'swagat', 'apoo', 'ujjwal']\n",
    "age_list = [ 25,28,26,23]\n",
    "sex_list = ['male','male','male','male']\n",
    "city_list = ['junagadh', 'odisa', 'vadodara','anand']\n",
    "\n",
    "dict1['name'] = name_list\n",
    "dict1['age'] = age_list\n",
    "dict1['sex'] = sex_list\n",
    "dict1['city'] = city_list\n",
    "dict1\n",
    "import pandas as pd\n",
    "\n",
    "x = pd.DataFrame(dict1)\n",
    "x.reset_index)()"
   ]
  },
  {
   "cell_type": "code",
   "execution_count": 47,
   "id": "75436b52-f020-4fcd-9ef5-023de5acd34f",
   "metadata": {},
   "outputs": [
    {
     "data": {
      "text/plain": [
       "{'name': ['prakash', 'swagat', 'apoo', 'ujjwal'],\n",
       " 'age': '31',\n",
       " 'sex': 'male',\n",
       " 'city': 'junagadh',\n",
       " 'sr.no': 1}"
      ]
     },
     "execution_count": 47,
     "metadata": {},
     "output_type": "execute_result"
    }
   ],
   "source": [
    "dict1"
   ]
  },
  {
   "cell_type": "code",
   "execution_count": 9,
   "id": "776b331f-c501-4cca-8fcf-812f152d34df",
   "metadata": {},
   "outputs": [
    {
     "name": "stdout",
     "output_type": "stream",
     "text": [
      "0\n",
      "1\n"
     ]
    }
   ],
   "source": [
    "#find factorial\n",
    "\n",
    "user = int(input())\n",
    "f = 1\n",
    "for i in range(1,user+1):\n",
    "    f= f*i\n",
    "if user == 0:\n",
    "    f=1\n",
    "print(f)\n",
    "    "
   ]
  },
  {
   "cell_type": "code",
   "execution_count": 23,
   "id": "a3c99f2f",
   "metadata": {},
   "outputs": [
    {
     "data": {
      "text/plain": [
       "4"
      ]
     },
     "execution_count": 23,
     "metadata": {},
     "output_type": "execute_result"
    }
   ],
   "source": [
    "list1 = [3,4,5,3,2,4,5,6,3]\n",
    "set(list1)\n",
    "import statistics as st\n",
    "st.median(list1)"
   ]
  },
  {
   "cell_type": "code",
   "execution_count": null,
   "id": "21b853c6",
   "metadata": {},
   "outputs": [],
   "source": [
    "im[]"
   ]
  }
 ],
 "metadata": {
  "kernelspec": {
   "display_name": "Python 3 (ipykernel)",
   "language": "python",
   "name": "python3"
  },
  "language_info": {
   "codemirror_mode": {
    "name": "ipython",
    "version": 3
   },
   "file_extension": ".py",
   "mimetype": "text/x-python",
   "name": "python",
   "nbconvert_exporter": "python",
   "pygments_lexer": "ipython3",
   "version": "3.9.7"
  }
 },
 "nbformat": 4,
 "nbformat_minor": 5
}
